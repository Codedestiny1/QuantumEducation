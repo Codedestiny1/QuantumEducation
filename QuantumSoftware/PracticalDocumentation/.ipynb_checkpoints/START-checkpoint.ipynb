{
 "cells": [
  {
   "cell_type": "markdown",
   "id": "9885c0f4",
   "metadata": {},
   "source": [
    "# CONTENT"
   ]
  },
  {
   "cell_type": "markdown",
   "id": "bbbc5083",
   "metadata": {},
   "source": [
    "### Basic math\n",
    "\n",
    "[Vectors](BasicMath/Math20_Vectors.ipynb) &nbsp;|&nbsp;\n",
    "[Dot Product](BasicMath/Math24_Dot_Product.ipynb) &nbsp;|&nbsp;\n",
    "[Matrices](BasicMath/Math28_Matrices.ipynb) &nbsp;|&nbsp;\n",
    "[Tensor Product](BasicMath/Math32_Tensor_Product.ipynb) &nbsp;\n",
    "\n",
    "---\n",
    "\n",
    "### Basics of classical systems\n",
    "\n",
    "[One Bit](classical-systems/CS04_One_Bit.ipynb)  &nbsp;|&nbsp;\n",
    "[Coin Flipping](classical-systems/CS08_Coin_Flip.ipynb)  &nbsp;|&nbsp;\n",
    "[Coin Flipping Game](classical-systems/CS12_Coin_Flip_Game.ipynb)  &nbsp;|&nbsp;\n",
    "[Probabilistic States](classical-systems/CS16_Probabilistic_States.ipynb)  &nbsp;|&nbsp;\n",
    "[Probabilistic Operators](classical-systems/CS20_Probabilistic_Operators.ipynb) &nbsp;|&nbsp;\n",
    "[Two Probabilistic Bits](classical-systems/CS24_Two_Probabilistic_Bits.ipynb)\n",
    "\n",
    "[Exercises](classical-systems/Exercises_Probabilistic_Systems.ipynb) &nbsp;|&nbsp;\n",
    "[Problem Set](classical-systems/Problems_Probabilistic_Systems.ipynb)  &nbsp;|&nbsp;\n",
    "[_Correlation (advance)_](classical-systems/CS28_Correlation.ipynb)  &nbsp;|&nbsp;\n",
    "[_Operators on Multiple Bits (advance)_](classical-systems/CS40_Operators_on_Multiple_Bits.ipynb) \n",
    "\n",
    "### Photons\n",
    "\n",
    "[Quantum Coin Flipping](photon/Photon20_Quantum_Coin_Flipping.ipynb)\n",
    "\n",
    "---"
   ]
  },
  {
   "cell_type": "code",
   "execution_count": null,
   "id": "b257dbc7",
   "metadata": {},
   "outputs": [],
   "source": []
  }
 ],
 "metadata": {
  "kernelspec": {
   "display_name": "Python 3",
   "language": "python",
   "name": "python3"
  },
  "language_info": {
   "codemirror_mode": {
    "name": "ipython",
    "version": 3
   },
   "file_extension": ".py",
   "mimetype": "text/x-python",
   "name": "python",
   "nbconvert_exporter": "python",
   "pygments_lexer": "ipython3",
   "version": "3.8.10"
  }
 },
 "nbformat": 4,
 "nbformat_minor": 5
}
